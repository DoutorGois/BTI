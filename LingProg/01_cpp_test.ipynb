{
 "cells": [
  {
   "cell_type": "code",
   "execution_count": 1,
   "metadata": {},
   "outputs": [
    {
     "data": {
      "text/plain": []
     },
     "execution_count": 1,
     "metadata": {},
     "output_type": "execute_result"
    }
   ],
   "source": [
    "#include<iostream>"
   ]
  },
  {
   "cell_type": "code",
   "execution_count": 3,
   "metadata": {},
   "outputs": [
    {
     "name": "stderr",
     "output_type": "stream",
     "text": [
      "\u001b[1minput_line_5:1:5: \u001b[0m\u001b[0;1;31merror: \u001b[0m\u001b[1mredefinition of 'main'\u001b[0m\n",
      "int main(){\n",
      "\u001b[0;1;32m    ^\n",
      "\u001b[0m\u001b[1minput_line_4:1:5: \u001b[0m\u001b[0;1;30mnote: \u001b[0mprevious definition is here\u001b[0m\n",
      "int main(){\n",
      "\u001b[0;1;32m    ^\n",
      "\u001b[0m"
     ]
    },
    {
     "ename": "ename",
     "evalue": "evalue",
     "output_type": "error",
     "traceback": []
    }
   ],
   "source": [
    "int main(){ 43\n",
    "\n",
    "    for(int i=0;i<10;i++){\n",
    "        std::cout<< \"Testando \" << i << std::endl;\n",
    "    }\n",
    "    return 0;\n",
    "}"
   ]
  },
  {
   "cell_type": "code",
   "execution_count": 2,
   "metadata": {},
   "outputs": [
    {
     "data": {
      "text/plain": []
     },
     "execution_count": 2,
     "metadata": {},
     "output_type": "execute_result"
    }
   ],
   "source": [
    "#include<vector>"
   ]
  },
  {
   "cell_type": "code",
   "execution_count": 3,
   "metadata": {},
   "outputs": [
    {
     "data": {
      "text/plain": []
     },
     "execution_count": 3,
     "metadata": {},
     "output_type": "execute_result"
    }
   ],
   "source": [
    "#include<math.h>"
   ]
  },
  {
   "cell_type": "code",
   "execution_count": 4,
   "metadata": {},
   "outputs": [
    {
     "data": {
      "text/plain": []
     },
     "execution_count": 4,
     "metadata": {},
     "output_type": "execute_result"
    }
   ],
   "source": []
  },
  {
   "cell_type": "code",
   "execution_count": 1,
   "metadata": {},
   "outputs": [
    {
     "name": "stderr",
     "output_type": "stream",
     "text": [
      "\u001b[1minput_line_3:5:43: \u001b[0m\u001b[0;1;35mwarning: \u001b[0m\u001b[1munsequenced modification and access to 'first' [-Wunsequenced]\u001b[0m\n",
      "        return (*first)*(*bfirst)+dotprod(++first,last,++bfirst);\n",
      "\u001b[0;1;32m                 ~~~~~                    ^\n",
      "\u001b[0m\u001b[1minput_line_3:5:56: \u001b[0m\u001b[0;1;35mwarning: \u001b[0m\u001b[1munsequenced modification and access to 'bfirst' [-Wunsequenced]\u001b[0m\n",
      "        return (*first)*(*bfirst)+dotprod(++first,last,++bfirst);\n",
      "\u001b[0;1;32m                          ~~~~~~                       ^\n",
      "\u001b[0m"
     ]
    },
    {
     "data": {
      "text/plain": []
     },
     "execution_count": 1,
     "metadata": {},
     "output_type": "execute_result"
    }
   ],
   "source": [
    "int dotprod(int* first, int*last, int* bfirst){\n",
    "    if(first==(last-1))\n",
    "        return (*first)*(*bfirst);\n",
    "    else\n",
    "        return (*first)*(*bfirst)+dotprod(++first,last,++bfirst);\n",
    "}"
   ]
  },
  {
   "cell_type": "code",
   "execution_count": 2,
   "metadata": {},
   "outputs": [
    {
     "data": {
      "text/plain": []
     },
     "execution_count": 2,
     "metadata": {},
     "output_type": "execute_result"
    }
   ],
   "source": [
    "\n",
    "int a0[10]={0,1,2,3,4,5,6,7,8,9};\n",
    "int a1[3]={2,1,2};\n",
    "int a2[3]={1,1,1};"
   ]
  },
  {
   "cell_type": "code",
   "execution_count": 3,
   "metadata": {},
   "outputs": [
    {
     "data": {
      "text/plain": [
       "(int) 5\n"
      ]
     },
     "execution_count": 3,
     "metadata": {},
     "output_type": "execute_result"
    }
   ],
   "source": [
    "int a3 = dotprod(a1,a1+3,a2);\n",
    "a3"
   ]
  },
  {
   "cell_type": "code",
   "execution_count": 4,
   "metadata": {},
   "outputs": [
    {
     "data": {
      "text/plain": [
       "(int) 285\n"
      ]
     },
     "execution_count": 4,
     "metadata": {},
     "output_type": "execute_result"
    }
   ],
   "source": [
    "int c = dotprod(a0,a0+10,a0);\n",
    "c"
   ]
  },
  {
   "cell_type": "code",
   "execution_count": null,
   "metadata": {},
   "outputs": [],
   "source": []
  }
 ],
 "metadata": {
  "kernelspec": {
   "display_name": "C++11",
   "language": "",
   "name": "cling-cpp11"
  },
  "language_info": {
   "codemirror_mode": "text/x-c++src",
   "file_extension": ".c++",
   "mimetype": " text/x-c++src",
   "name": "c++"
  }
 },
 "nbformat": 4,
 "nbformat_minor": 2
}
