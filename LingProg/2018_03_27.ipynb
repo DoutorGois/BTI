{
 "cells": [
  {
   "cell_type": "code",
   "execution_count": 1,
   "metadata": {},
   "outputs": [
    {
     "data": {
      "text/plain": []
     },
     "execution_count": 1,
     "metadata": {},
     "output_type": "execute_result"
    }
   ],
   "source": [
    "#include<iostream>\n",
    "#include<functional>\n",
    "#include<algorithm>\n",
    "#include<iterator>"
   ]
  },
  {
   "cell_type": "code",
   "execution_count": 13,
   "metadata": {},
   "outputs": [
    {
     "data": {
      "text/plain": []
     },
     "execution_count": 13,
     "metadata": {},
     "output_type": "execute_result"
    }
   ],
   "source": [
    "using byte = unsigned char;"
   ]
  },
  {
   "cell_type": "code",
   "execution_count": 14,
   "metadata": {},
   "outputs": [
    {
     "name": "stderr",
     "output_type": "stream",
     "text": [
      "\u001b[1minput_line_16:7:6: \u001b[0m\u001b[0;1;31merror: \u001b[0m\u001b[1minvalid preprocessing directive\u001b[0m\n",
      "    #const byte *first = static_cast < const byte * > (ptr);\n",
      "\u001b[0;1;32m     ^\n",
      "\u001b[0m\u001b[1minput_line_16:8:60: \u001b[0m\u001b[0;1;31merror: \u001b[0m\u001b[1muse of undeclared identifier 'ptr'\u001b[0m\n",
      "    const byte *first = reinterpret_cast < const byte * > (ptr);\n",
      "\u001b[0;1;32m                                                           ^\n",
      "\u001b[0m\u001b[1minput_line_16:10:24: \u001b[0m\u001b[0;1;31merror: \u001b[0m\u001b[1muse of undeclared identifier 'count'; did you mean 'std::count'?\u001b[0m\n",
      "    for (auto i(0u); i<count; ++i){\n",
      "\u001b[0;1;32m                       ^~~~~\n",
      "\u001b[0m\u001b[0;32m                       std::count\n",
      "\u001b[0m\u001b[1m/usr/include/c++/5/bits/stl_algo.h:3959:5: \u001b[0m\u001b[0;1;30mnote: \u001b[0m'std::count' declared here\u001b[0m\n",
      "    count(_InputIterator __first, _InputIterator __last, const _Tp& __value)\n",
      "\u001b[0;1;32m    ^\n",
      "\u001b[0m\u001b[1minput_line_16:10:24: \u001b[0m\u001b[0;1;31merror: \u001b[0m\u001b[1mreference to overloaded function could not be resolved; did you mean to call it?\u001b[0m\n",
      "    for (auto i(0u); i<count; ++i){\n",
      "\u001b[0;1;32m                       ^~~~~\n",
      "\u001b[0m\u001b[1m/usr/include/c++/5/bits/stl_algo.h:3959:5: \u001b[0m\u001b[0;1;30mnote: \u001b[0mpossible target for call\u001b[0m\n",
      "    count(_InputIterator __first, _InputIterator __last, const _Tp& __value)\n",
      "\u001b[0;1;32m    ^\n",
      "\u001b[0m\u001b[1minput_line_16:11:32: \u001b[0m\u001b[0;1;31merror: \u001b[0m\u001b[1muse of undeclared identifier 'key'\u001b[0m\n",
      "        if ( memcmp((first+i), key, size) == 0 )\n",
      "\u001b[0;1;32m                               ^\n",
      "\u001b[0m\u001b[1minput_line_16:11:37: \u001b[0m\u001b[0;1;31merror: \u001b[0m\u001b[1muse of undeclared identifier 'size'\u001b[0m\n",
      "        if ( memcmp((first+i), key, size) == 0 )\n",
      "\u001b[0;1;32m                                    ^\n",
      "\u001b[0m\u001b[1minput_line_16:17:6: \u001b[0m\u001b[0;1;31merror: \u001b[0m\u001b[1minvalid preprocessing directive\u001b[0m\n",
      "    #return ptr;    \n",
      "\u001b[0;1;32m     ^\n",
      "\u001b[0m"
     ]
    },
    {
     "ename": "ename",
     "evalue": "evalue",
     "output_type": "error",
     "traceback": []
    }
   ],
   "source": [
    "void * lsearch(const void *key, // Chave de busca\n",
    "               const void *ptr, // Local da busca\n",
    "               size_t count,    // Número de elementos no vetor de busca\n",
    "               size_t size);    // Tamanho em bytes de 1 elemento do vetor.\n",
    "{\n",
    "    #const byte *first = static_cast < const byte * > (ptr);\n",
    "    const byte *first = reinterpret_cast < const byte * > (ptr);\n",
    "    \n",
    "    for (auto i(0u); i<count; ++i){\n",
    "        std::cout << \">>> COmparando \" << (int *)()\n",
    "        if ( memcmp((first+(i*size)), key, size) == 0 )\n",
    "            return const_cast < byte * > (first+i);\n",
    "        \n",
    "    }\n",
    "    \n",
    "    return nullptr;    \n",
    "    #return ptr;    \n",
    "}"
   ]
  },
  {
   "cell_type": "code",
   "execution_count": 11,
   "metadata": {},
   "outputs": [
    {
     "name": "stderr",
     "output_type": "stream",
     "text": [
      "\u001b[1minput_line_13:2:12: \u001b[0m\u001b[0;1;31merror: \u001b[0m\u001b[1mcannot initialize a variable of type 'void *' with an lvalue of type 'const void *'\u001b[0m\n",
      "    void * result = key;\n",
      "\u001b[0;1;32m           ^        ~~~\n",
      "\u001b[0m"
     ]
    },
    {
     "ename": "ename",
     "evalue": "evalue",
     "output_type": "error",
     "traceback": []
    }
   ],
   "source": [
    "void *lsearch(const void *key, const void *ptr, size_t count, size_t size)"
   ]
  },
  {
   "cell_type": "code",
   "execution_count": 3,
   "metadata": {},
   "outputs": [
    {
     "data": {
      "text/plain": []
     },
     "execution_count": 3,
     "metadata": {},
     "output_type": "execute_result"
    }
   ],
   "source": [
    "int A[] = {2,31,6,8,3,5,4,9,7};\n",
    "auto size_A = sizeof(A)/sizeof(A[0]);\n",
    "int target(0);"
   ]
  },
  {
   "cell_type": "code",
   "execution_count": null,
   "metadata": {},
   "outputs": [],
   "source": []
  },
  {
   "cell_type": "code",
   "execution_count": 12,
   "metadata": {},
   "outputs": [
    {
     "name": "stderr",
     "output_type": "stream",
     "text": [
      "\u001b[1minput_line_14:2:34: \u001b[0m\u001b[0;1;31merror: \u001b[0m\u001b[1muse of undeclared identifier 'lsearch'; did you mean 'std::search'?\u001b[0m\n",
      " int *result = static_cast<int*>(lsearch(&target, A, size_A, sizeof(A[0])));\n",
      "\u001b[0;1;32m                                 ^~~~~~~\n",
      "\u001b[0m\u001b[0;32m                                 std::search\n",
      "\u001b[0m\u001b[1m/usr/include/c++/5/bits/stl_algo.h:4022:5: \u001b[0m\u001b[0;1;30mnote: \u001b[0m'std::search' declared here\u001b[0m\n",
      "    search(_ForwardIterator1 __first1, _ForwardIterator1 __last1,\n",
      "\u001b[0;1;32m    ^\n",
      "\u001b[0mIn file included from input_line_3:1:\n",
      "In file included from /usr/include/c++/5/iostream:39:\n",
      "In file included from /usr/include/c++/5/ostream:38:\n",
      "In file included from /usr/include/c++/5/ios:40:\n",
      "In file included from /usr/include/c++/5/bits/char_traits.h:39:\n",
      "In file included from /usr/include/c++/5/bits/stl_algobase.h:71:\n",
      "\u001b[1m/usr/include/c++/5/bits/predefined_ops.h:205:50: \u001b[0m\u001b[0;1;31merror: \u001b[0m\u001b[1mno type named 'reference' in 'std::iterator_traits<unsigned long>'\u001b[0m\n",
      "      typename std::iterator_traits<_Iterator1>::reference _M_ref;\n",
      "\u001b[0;1;32m      ~~~~~~~~~~~~~~~~~~~~~~~~~~~~~~~~~~~~~~~~~~~^~~~~~~~~\n",
      "\u001b[0m\u001b[1m/usr/include/c++/5/bits/stl_algo.h:217:3: \u001b[0m\u001b[0;1;30mnote: \u001b[0min instantiation of template class '__gnu_cxx::__ops::_Iter_equals_iter<unsigned long>' requested here\u001b[0m\n",
      "                __gnu_cxx::__ops::__iter_comp_iter(__predicate, __first2));\n",
      "\u001b[0;1;32m                ^\n",
      "\u001b[0m\u001b[1m/usr/include/c++/5/bits/stl_algo.h:4034:19: \u001b[0m\u001b[0;1;30mnote: \u001b[0min instantiation of function template specialization\n",
      "      'std::__search<int *, unsigned long, __gnu_cxx::__ops::_Iter_equal_to_iter>' requested here\u001b[0m\n",
      "      return std::__search(__first1, __last1, __first2, __last2,\n",
      "\u001b[0;1;32m                  ^\n",
      "\u001b[0m\u001b[1minput_line_14:2:34: \u001b[0m\u001b[0;1;30mnote: \u001b[0min instantiation of function template specialization 'std::search<int *, unsigned long>' requested here\u001b[0m\n",
      " int *result = static_cast<int*>(lsearch(&target, A, size_A, sizeof(A[0])));\n",
      "\u001b[0;1;32m                                 ^\n",
      "\u001b[0mIn file included from input_line_3:1:\n",
      "In file included from /usr/include/c++/5/iostream:39:\n",
      "In file included from /usr/include/c++/5/ostream:38:\n",
      "In file included from /usr/include/c++/5/ios:40:\n",
      "In file included from /usr/include/c++/5/bits/char_traits.h:39:\n",
      "In file included from /usr/include/c++/5/bits/stl_algobase.h:71:\n",
      "\u001b[1m/usr/include/c++/5/bits/predefined_ops.h:208:11: \u001b[0m\u001b[0;1;31merror: \u001b[0m\u001b[1mindirection requires pointer operand ('unsigned long' invalid)\u001b[0m\n",
      "        : _M_ref(*__it1)\n",
      "\u001b[0;1;32m                 ^~~~~~\n",
      "\u001b[0m\u001b[1m/usr/include/c++/5/bits/predefined_ops.h:220:14: \u001b[0m\u001b[0;1;30mnote: \u001b[0min instantiation of member function '__gnu_cxx::__ops::_Iter_equals_iter<unsigned long>::_Iter_equals_iter' requested here\u001b[0m\n",
      "    { return _Iter_equals_iter<_Iterator>(__it); }\n",
      "\u001b[0;1;32m             ^\n",
      "\u001b[0m\u001b[1m/usr/include/c++/5/bits/stl_algo.h:217:21: \u001b[0m\u001b[0;1;30mnote: \u001b[0min instantiation of function template specialization '__gnu_cxx::__ops::__iter_comp_iter<unsigned long>' requested here\u001b[0m\n",
      "                __gnu_cxx::__ops::__iter_comp_iter(__predicate, __first2));\n",
      "\u001b[0;1;32m                                  ^\n",
      "\u001b[0m\u001b[1m/usr/include/c++/5/bits/stl_algo.h:4034:19: \u001b[0m\u001b[0;1;30mnote: \u001b[0min instantiation of function template specialization\n",
      "      'std::__search<int *, unsigned long, __gnu_cxx::__ops::_Iter_equal_to_iter>' requested here\u001b[0m\n",
      "      return std::__search(__first1, __last1, __first2, __last2,\n",
      "\u001b[0;1;32m                  ^\n",
      "\u001b[0m\u001b[1minput_line_14:2:34: \u001b[0m\u001b[0;1;30mnote: \u001b[0min instantiation of function template specialization 'std::search<int *, unsigned long>' requested here\u001b[0m\n",
      " int *result = static_cast<int*>(lsearch(&target, A, size_A, sizeof(A[0])));\n",
      "\u001b[0;1;32m                                 ^\n",
      "\u001b[0mIn file included from input_line_3:1:\n",
      "In file included from /usr/include/c++/5/iostream:39:\n",
      "In file included from /usr/include/c++/5/ostream:38:\n",
      "In file included from /usr/include/c++/5/ios:40:\n",
      "In file included from /usr/include/c++/5/bits/char_traits.h:39:\n",
      "In file included from /usr/include/c++/5/bits/stl_algobase.h:71:\n",
      "\u001b[1m/usr/include/c++/5/bits/predefined_ops.h:87:26: \u001b[0m\u001b[0;1;31merror: \u001b[0m\u001b[1mindirection requires pointer operand ('unsigned long' invalid)\u001b[0m\n",
      "      { return *__it1 == *__it2; }\n",
      "\u001b[0;1;32m                         ^~~~~~\n",
      "\u001b[0m\u001b[1m/usr/include/c++/5/bits/stl_algo.h:237:11: \u001b[0m\u001b[0;1;30mnote: \u001b[0min instantiation of function template specialization '__gnu_cxx::__ops::_Iter_equal_to_iter::operator()<int *, unsigned long>'\n",
      "      requested here\u001b[0m\n",
      "          while (__predicate(__current, __p))\n",
      "\u001b[0;1;32m                 ^\n",
      "\u001b[0m\u001b[1m/usr/include/c++/5/bits/stl_algo.h:4034:19: \u001b[0m\u001b[0;1;30mnote: \u001b[0min instantiation of function template specialization\n",
      "      'std::__search<int *, unsigned long, __gnu_cxx::__ops::_Iter_equal_to_iter>' requested here\u001b[0m\n",
      "      return std::__search(__first1, __last1, __first2, __last2,\n",
      "\u001b[0;1;32m                  ^\n",
      "\u001b[0m\u001b[1minput_line_14:2:34: \u001b[0m\u001b[0;1;30mnote: \u001b[0min instantiation of function template specialization 'std::search<int *, unsigned long>' requested here\u001b[0m\n",
      " int *result = static_cast<int*>(lsearch(&target, A, size_A, sizeof(A[0])));\n",
      "\u001b[0;1;32m                                 ^\n",
      "\u001b[0m"
     ]
    },
    {
     "ename": "ename",
     "evalue": "evalue",
     "output_type": "error",
     "traceback": []
    }
   ],
   "source": [
    "int *result = static_cast<int*>(lsearch(&target, A, size_A, sizeof(A[0])));"
   ]
  },
  {
   "cell_type": "code",
   "execution_count": null,
   "metadata": {},
   "outputs": [],
   "source": []
  },
  {
   "cell_type": "code",
   "execution_count": null,
   "metadata": {},
   "outputs": [],
   "source": [
    "void vdisp(int*a, int*b){\n",
    "    while(a<b){\n",
    "        std::cout << a\n",
    "    }\n",
    "}"
   ]
  },
  {
   "cell_type": "code",
   "execution_count": 6,
   "metadata": {},
   "outputs": [
    {
     "name": "stderr",
     "output_type": "stream",
     "text": [
      "\u001b[1m/usr/include/c++/5/ostream:559:8: \u001b[0m\u001b[0;1;31merror: \u001b[0m\u001b[1mno member named 'setstate' in 'std::basic_ostream<char>'\u001b[0m\n",
      "        __out.setstate(ios_base::badbit);\n",
      "\u001b[0;1;32m        ~~~~~ ^\n",
      "\u001b[0m\u001b[1minput_line_8:2:12: \u001b[0m\u001b[0;1;30mnote: \u001b[0min instantiation of function template specialization 'std::operator<<<std::char_traits<char> >' requested here\u001b[0m\n",
      " std::cout << \">>> Array A = [ \";\n",
      "\u001b[0;1;32m           ^\n",
      "\u001b[0m"
     ]
    },
    {
     "ename": "ename",
     "evalue": "evalue",
     "output_type": "error",
     "traceback": []
    }
   ],
   "source": [
    "std::cout << \">>> Array A = [ \";\n",
    "//std::copy(A,A+size_A,std::ostream_iterator<int>(std::cout, \" \"));\n",
    "std::cout << \"]\\n\";"
   ]
  },
  {
   "cell_type": "code",
   "execution_count": null,
   "metadata": {},
   "outputs": [],
   "source": []
  }
 ],
 "metadata": {
  "kernelspec": {
   "display_name": "C++11",
   "language": "",
   "name": "cling-cpp11"
  },
  "language_info": {
   "codemirror_mode": "text/x-c++src",
   "file_extension": ".c++",
   "mimetype": " text/x-c++src",
   "name": "c++"
  }
 },
 "nbformat": 4,
 "nbformat_minor": 2
}
