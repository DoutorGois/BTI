{
 "cells": [
  {
   "cell_type": "code",
   "execution_count": null,
   "metadata": {},
   "outputs": [],
   "source": [
    "#include <iostream>\n",
    "#include <vector>\n",
    "\n",
    "using namespace std;\n",
    "\n",
    "using byte = unsigned char;\n",
    "#typedef bitset<8> byte;\n",
    "\n",
    "using predicate = std::function<bool    (const void *)>;\n",
    "using equal     = std::function<bool (*)(const void *, const void *)>;\n",
    "\n",
    "void reverse(void*       , void*       , size_t);\n",
    "void * clone(const void *, const void *, size_t);\n",
    "const void * find_if(const void *, const void *, size_t, predicate);\n",
    "const void *    find(const void *, const void *, size_t, const void *, equal);\n",
    "\n",
    "bool  all_of (const void *, const void *, predicate);\n",
    "bool  any_of (const void *, const void *, predicate);\n",
    "bool none_of (const void *, const void *, predicate);\n",
    "\n",
    "void sort(void *, void *. equal);\n"
   ]
  },
  {
   "cell_type": "code",
   "execution_count": null,
   "metadata": {},
   "outputs": [],
   "source": [
    "a\n",
    "\n",
    "int main(){\n",
    "    \n",
    "    vector<int> vect;\n",
    "    \n",
    "    for (auto i(0); i< 6; ++i)\n",
    "        vect.push_back(i);\n",
    "    \n",
    "    vector<int>::const_iterator it;\n",
    "    \n",
    "    it = vect.begin();\n",
    "    \n",
    "    while (it != vect.end()){\n",
    "        cout << *it << \" \";\n",
    "        ++it;\n",
    "    }\n",
    "    \n",
    "    cout << endl << \" Fim \" << endl;\n",
    "}\n",
    "\n",
    "#using predicate = std::function<bool    (const void *)>;\n",
    "#using equal     = std::function<bool (*)(const void *, const void *)>;\n",
    "\n",
    "void reverse(void* first, void* last, size_t size){\n",
    "    \n",
    "}\n",
    "\n",
    "void * clone(const void *, const void *, size_t);\n",
    "const void * find_if(const void *, const void *, size_t, predicate);\n",
    "const void *    find(const void *, const void *, size_t, const void *, equal);\n",
    "\n",
    "bool  all_of (const void *, const void *, predicate);\n",
    "bool  any_of (const void *, const void *, predicate);\n",
    "bool none_of (const void *, const void *, predicate);\n",
    "\n",
    "void sort(void *, void *. equal);\n"
   ]
  }
 ],
 "metadata": {
  "kernelspec": {
   "display_name": "C++11",
   "language": "",
   "name": "cling-cpp11"
  },
  "language_info": {
   "codemirror_mode": "text/x-c++src",
   "file_extension": ".c++",
   "mimetype": " text/x-c++src",
   "name": "c++"
  }
 },
 "nbformat": 4,
 "nbformat_minor": 2
}
