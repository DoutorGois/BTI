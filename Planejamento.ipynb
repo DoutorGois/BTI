{
 "cells": [
  {
   "cell_type": "code",
   "execution_count": null,
   "metadata": {},
   "outputs": [],
   "source": [
    "NAM = ['Matemática elementar','Análise combinatoria','Cálculo diferencial e integral II',    'Pensamento computacional','Tecnolgia da informação e sociedade','Vetores e geometria analítica','Introdução às técnicas de programação','Cálculo numérico para ciência da computação','Probabilidade','Matemática para engenharia III','Linguagem de programação II','Design de software II','Estrutura de dados básicas I','Estrutura de dados básicas II','Fundamentos matemáticos da computação I','Bancos de dados','Grafos','Organização e arquitetura de computadores','Linguagens formais de autômatos','Redes de computadores','Processos de software','Inteligência artificial']\n",
    "CHE =[[60,1],[30,1],[90,0],[60,1],[30,0],[60,0],[90,0],[60,2],[60,0],[90,2],[60,0],[60,2],[60,0],[60,0],[90,0],[60,2],[60,2],[60,1],[60,2],[60,2],[60,2],[60,2]]\n",
    "COD = ['IMD1001','IMD1002','IMD0024','DIM0123','IMD0020','IMD0034','IMD0012','DIM0404','IMD0033','MAT0314','IMD0040','IMD0407','IMD0029','IMD0039','IMD0028','IMD0401','IMD0549','IMD0431','IMD0606','IMD0043','IMD0408','IMD0613']\n",
    "\n",
    "CHE.extend([[30,0],[90,2],[30,0],[60,2],[30,0],[60,1]])\n",
    "NAM.extend(['Pratica de leitura e escrita','Calculo II','Pratica de leitura e escrita II','Probabilidade e estatística','Praticas de leitura e escrita em inglês','Língua brasileira de sinais - Libras'])\n",
    "COD.extend(['ECT1105','ECT1202','ECT1205','ECT1301','ECT1307','FPE0087'])\n",
    "\n",
    "ENTRIES = zip(NAM,CHE,COD)\n",
    "\n",
    "IMD = {'name':[],'code':[],'ch':[],'type':[]}\n",
    "type_dict = {0:'Obrigatória',1:'Eletiva',2:'Opcional'}\n",
    "for (n,c,co) in ENTRIES:\n",
    "    IMD['name'].append(n)\n",
    "    IMD['ch'].append(c[0])\n",
    "    IMD['code'].append(co)\n",
    "    IMD['type'].append(type_dict[c[1]])\n",
    " \n",
    "    \n",
    "\n",
    "IMD = pd.DataFrame(IMD)\n",
    "\n",
    "IMD\n",
    "\n",
    "Fundamentos Matemáticos da Computação\n",
    "2018.1 Turma 02 ATHANASIOS TSOUANAS (90h) REGULAR Presencial ABERTA 246N12 (19/02/2018 - 07/07/2018) CIVT - A308\n",
    "\n",
    "Linguagem de Programação I\n",
    "2018.1 Turma 02 SILVIO COSTA SAMPAIO (60h) REGULAR Presencial ABERTA 35N12 ou 35N34 (19/02/2018 - 07/07/2018) CIVT - A309 38/40 alunos [Visualizar Menu]\n",
    "\n",
    "Geometria Euclidiana\n",
    "018.1 Turma 08 LOURENA KARIN DE MEDEIROS ROCHA (30h) REGULAR Presencial ABERTA 2M56 (19/02/2018 - 07/07/2018) A308 - CIVT 61/69 alunos [Visualizar Menu]\n",
    "\n",
    "Arquitetura de Computadores\n",
    "2018.1 Turma 03 JULIO CESAR PAULINO DE MELO (60h) REGULAR Presencial ABERTA 24N12 (19/02/2018 - 07/07/2018) A307 - CIVT 24/40 alunos [Visualizar Menu] \n",
    "\n",
    "90+60+30+60\n",
    "\n",
    "IMD.groupby('type').sum()\n",
    "\n",
    "1020-690\n",
    "\n",
    "1230-720\n",
    "\n",
    "\n",
    "\n",
    "2600-IMD.groupby('type').sum().sum()\n",
    "\n",
    "930-IMD[IMD['type']=='Obrigatória']['ch'].sum()\n",
    "\n",
    "1230-IMD[IMD['type']=='Opcional']['ch'].sum()\n",
    "\n",
    "IMD[IMD['type']=='Eletiva']['ch'].sum()\n",
    "\n",
    "180+90+60+30"
   ]
  },
  {
   "cell_type": "code",
   "execution_count": 7,
   "metadata": {},
   "outputs": [],
   "source": [
    "import cv2"
   ]
  }
 ],
 "metadata": {
  "kernelspec": {
   "display_name": "Python [default]",
   "language": "python",
   "name": "python3"
  },
  "language_info": {
   "codemirror_mode": {
    "name": "ipython",
    "version": 3
   },
   "file_extension": ".py",
   "mimetype": "text/x-python",
   "name": "python",
   "nbconvert_exporter": "python",
   "pygments_lexer": "ipython3",
   "version": "3.6.4"
  }
 },
 "nbformat": 4,
 "nbformat_minor": 2
}
