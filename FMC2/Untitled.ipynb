{
 "cells": [
  {
   "cell_type": "markdown",
   "metadata": {},
   "source": [
    "Axioma I_{1} \\\\\n",
    "Qualquer que seja a reta, existem pontos que pertencem e pontos que não pertencem a reta.\\\\\n",
    "\\forall reta \\in Retas  \\exists ( \\{ pontos_{in} | pontos_{in} \\in Pontos \\wedge pontos_{in} \\in reta \\} \\bigwedge \\{ pontos_{out} | pontos_{out} \\in Pontos \\wedge pontos_{out} \\notin reta \\})\n"
   ]
  },
  {
   "cell_type": "markdown",
   "metadata": {},
   "source": [
    "\\begin\n",
    "\\text{Axioma }\\ I_{1} \\\\\n",
    "\\text{Qualquer que seja a reta, existem pontos que pertencem e pontos que não pertencem a reta.}\\\\\\\\\n",
    "\\forall reta \\in Retas  \\exists ( \\{ pontos_{in} | pontos_{in} \\in Pontos \\wedge pontos_{in} \\in reta \\} \\bigwedge \\{ pontos_{out} | pontos_{out} \\in Pontos \\wedge pontos_{out} \\notin reta \\})\n",
    "\\end"
   ]
  },
  {
   "cell_type": "markdown",
   "metadata": {},
   "source": [
    "$$\\text{Axioma I}_{1}$$\n",
    "\n",
    "$$\\forall reta \\in Retas  \\exists ( \\{ pontos_{in} | pontos_{in} \\in Pontos \\wedge pontos_{in} \\in reta \\} \\bigwedge \\{ pontos_{out} | pontos_{out} \\in Pontos \\wedge pontos_{out} \\notin reta \\})$$"
   ]
  }
 ],
 "metadata": {
  "kernelspec": {
   "display_name": "Python 3",
   "language": "python",
   "name": "python3"
  },
  "language_info": {
   "codemirror_mode": {
    "name": "ipython",
    "version": 3
   },
   "file_extension": ".py",
   "mimetype": "text/x-python",
   "name": "python",
   "nbconvert_exporter": "python",
   "pygments_lexer": "ipython3",
   "version": "3.6.4"
  }
 },
 "nbformat": 4,
 "nbformat_minor": 2
}
