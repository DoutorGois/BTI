{
 "cells": [
  {
   "cell_type": "markdown",
   "metadata": {},
   "source": [
    "# Projeto final para Deep Learning\n"
   ]
  },
  {
   "cell_type": "markdown",
   "metadata": {},
   "source": [
    "## Introdução"
   ]
  },
  {
   "cell_type": "markdown",
   "metadata": {},
   "source": [
    "Escrita científica faz parte de qualquer descoberta científica. Todo pesquisador contribui a sociedade dentro de um contexto. O contexto é a literatura disponível que da suporte para a produção do novo conhecimento. Portanto a produção textual é parte essencial para a geração de novos conhecimentos, e sem referência de outros trabalhos científicos ela é uma ilha inexistênte.\n",
    "\n",
    "Essa característica dos textos científicos nos impõe uma necessidade de ter conehcimento de referências que embasam nossa nova produção. Apesar que essa seja as obrigações de um bom cientísta - estar em dia com a literatura necessária para defender sua tese - o volume de trabalhos disponíveis é maior que nossa capacidade humana de leitura no nosso tempo de vida.\n",
    "\n",
    "Para suprimir essa limitação nós precisamos desenvolver novas tecnologias que permita o homem produzir novo conhecimento como um novo nó na rede de literária.\n",
    "\n",
    "O processamento de linguagem natural são os conjuntos de algorítmos que fornecem a sequencia de caractéres as propriedades linguísticas e lógica inerentes a capacidade humana de raciocinar. Nós temos a capacidade de aplicar algorítmos para segmentar texto em frases e extrair proposições lógicas apartir de frases, parágrafos e textos.\n",
    "\n",
    "O presente trabalho pretende utilizar processamento de linguagem natural juntamente com <i> deep learning </i> para desenvolver um sistema de sugestão de referência para a frases escritas em documento digital. "
   ]
  },
  {
   "cell_type": "markdown",
   "metadata": {},
   "source": [
    "## Objetivos"
   ]
  },
  {
   "cell_type": "markdown",
   "metadata": {},
   "source": [
    "<b>Gerais <br><br></b>\n",
    "1. Desenvolver um sistema de sugestão de referências a partir de frases escritas em um editor de texto.\n",
    "\n",
    "<b>Específicos <br><br></b>\n",
    "1. Construir um web-crawler para adquirir artigos científicos de um determidado tema;\n",
    "1. Extrair o conteúdo textual dos artigos científicos;\n",
    "1. Extrair as características dos textos dos artigos científicos;\n",
    "1. Construir lista com documentos contendo menor distância para uma dada frase;\n",
    "1. Implementar um plugin de Vim para sugestão de referências. \n"
   ]
  },
  {
   "cell_type": "markdown",
   "metadata": {},
   "source": [
    "## Implementação"
   ]
  },
  {
   "cell_type": "markdown",
   "metadata": {},
   "source": [
    "### Instalando dependencias"
   ]
  },
  {
   "cell_type": "code",
   "execution_count": null,
   "metadata": {},
   "outputs": [],
   "source": [
    "!conda install -c conda-forge biopython -y"
   ]
  },
  {
   "cell_type": "code",
   "execution_count": null,
   "metadata": {},
   "outputs": [],
   "source": [
    "!conda install -c conda-forge nltk -y"
   ]
  },
  {
   "cell_type": "markdown",
   "metadata": {},
   "source": [
    "### Web-crawler"
   ]
  },
  {
   "cell_type": "code",
   "execution_count": null,
   "metadata": {},
   "outputs": [],
   "source": [
    "corpus_keywords = ['hippocampus','spatial navigation','speed cell','grid cell','place cell','conjunctive cell']"
   ]
  },
  {
   "cell_type": "code",
   "execution_count": 4,
   "metadata": {},
   "outputs": [
    {
     "name": "stderr",
     "output_type": "stream",
     "text": [
      "/opt/conda/lib/python3.6/site-packages/Bio/Entrez/__init__.py:564: UserWarning: \n",
      "Email address is not specified.\n",
      "\n",
      "To make use of NCBI's E-utilities, NCBI requires you to specify your\n",
      "email address with each request.  As an example, if your email address\n",
      "is A.N.Other@example.com, you can specify it as follows:\n",
      "   from Bio import Entrez\n",
      "   Entrez.email = 'A.N.Other@example.com'\n",
      "In case of excessive usage of the E-utilities, NCBI will attempt to contact\n",
      "a user at the email address provided before blocking access to the\n",
      "E-utilities.\n",
      "  E-utilities.\"\"\", UserWarning)\n"
     ]
    }
   ],
   "source": [
    "from Bio import Entrez\n",
    "Entrez.email = 'dr.publico88@gmail.com'\n",
    "handle = Entrez.einfo()\n",
    "record = Entrez.read(handle)\n"
   ]
  },
  {
   "cell_type": "code",
   "execution_count": 14,
   "metadata": {},
   "outputs": [
    {
     "name": "stdout",
     "output_type": "stream",
     "text": [
      "11\n"
     ]
    }
   ],
   "source": [
    "term='\"speed cells\"'\n",
    "\n",
    "from Bio import Entrez\n",
    "Entrez.email = 'dr.publico88@gmail.com'\n",
    "handle = Entrez.egquery(term=term)\n",
    "record = Entrez.read(handle)\n",
    "for row in record[\"eGQueryResult\"]:\n",
    "    if row[\"DbName\"]==\"pubmed\":\n",
    "        print(row[\"Count\"])\n"
   ]
  },
  {
   "cell_type": "code",
   "execution_count": null,
   "metadata": {},
   "outputs": [],
   "source": []
  },
  {
   "cell_type": "code",
   "execution_count": null,
   "metadata": {},
   "outputs": [],
   "source": [
    "from Bio import Entrez\n",
    "handle = Entrez.esearch(db=\"pubmed\", term=term, retmax=463)\n",
    "record = Entrez.read(handle)\n",
    "handle.close()\n",
    "idlist = record[\"IdList\"]"
   ]
  },
  {
   "cell_type": "markdown",
   "metadata": {},
   "source": [
    "## Resultados"
   ]
  },
  {
   "cell_type": "code",
   "execution_count": null,
   "metadata": {},
   "outputs": [],
   "source": []
  },
  {
   "cell_type": "code",
   "execution_count": null,
   "metadata": {},
   "outputs": [],
   "source": []
  },
  {
   "cell_type": "markdown",
   "metadata": {},
   "source": [
    "## Conclusões"
   ]
  },
  {
   "cell_type": "code",
   "execution_count": null,
   "metadata": {},
   "outputs": [],
   "source": []
  },
  {
   "cell_type": "code",
   "execution_count": null,
   "metadata": {},
   "outputs": [],
   "source": []
  },
  {
   "cell_type": "markdown",
   "metadata": {},
   "source": [
    "## Referências"
   ]
  },
  {
   "cell_type": "code",
   "execution_count": null,
   "metadata": {},
   "outputs": [],
   "source": []
  },
  {
   "cell_type": "code",
   "execution_count": null,
   "metadata": {},
   "outputs": [],
   "source": []
  }
 ],
 "metadata": {
  "kernelspec": {
   "display_name": "Python 3",
   "language": "python",
   "name": "python3"
  },
  "language_info": {
   "codemirror_mode": {
    "name": "ipython",
    "version": 3
   },
   "file_extension": ".py",
   "mimetype": "text/x-python",
   "name": "python",
   "nbconvert_exporter": "python",
   "pygments_lexer": "ipython3",
   "version": "3.6.4"
  }
 },
 "nbformat": 4,
 "nbformat_minor": 2
}
